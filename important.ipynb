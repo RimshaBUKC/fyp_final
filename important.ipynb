{
  "nbformat": 4,
  "nbformat_minor": 0,
  "metadata": {
    "colab": {
      "name": "important.ipynb",
      "provenance": [],
      "collapsed_sections": [],
      "authorship_tag": "ABX9TyOd0USaWnfkGwPZry6JbP6L",
      "include_colab_link": true
    },
    "kernelspec": {
      "name": "python3",
      "display_name": "Python 3"
    },
    "language_info": {
      "name": "python"
    }
  },
  "cells": [
    {
      "cell_type": "markdown",
      "metadata": {
        "id": "view-in-github",
        "colab_type": "text"
      },
      "source": [
        "<a href=\"https://colab.research.google.com/github/RimshaBUKC/fyp_final/blob/main/important.ipynb\" target=\"_parent\"><img src=\"https://colab.research.google.com/assets/colab-badge.svg\" alt=\"Open In Colab\"/></a>"
      ]
    },
    {
      "cell_type": "markdown",
      "metadata": {
        "id": "8G8zIto9o1LT"
      },
      "source": [
        "import library"
      ]
    },
    {
      "cell_type": "code",
      "metadata": {
        "id": "Jn4jZLUmZ5-0"
      },
      "source": [
        "import pandas as pd\n",
        "import numpy as np\n",
        "import keras\n",
        "import tensorflow as tf\n",
        "from keras.preprocessing.sequence import TimeseriesGenerator"
      ],
      "execution_count": 2,
      "outputs": []
    },
    {
      "cell_type": "markdown",
      "metadata": {
        "id": "MtFwwo8go7ij"
      },
      "source": [
        "ignore"
      ]
    },
    {
      "cell_type": "code",
      "metadata": {
        "id": "wAeg2tzOb7KB"
      },
      "source": [
        "#from google.colab import drive\n",
        "#drive.mount('/content/drive/', force_remount=True)"
      ],
      "execution_count": 3,
      "outputs": []
    },
    {
      "cell_type": "markdown",
      "metadata": {
        "id": "sDaDIzJvo9zK"
      },
      "source": [
        "csv file is on github too\n",
        "https://github.com/RimshaBUKC/fyp_final/blob/main/2_mon_new.csv"
      ]
    },
    {
      "cell_type": "code",
      "metadata": {
        "colab": {
          "base_uri": "https://localhost:8080/"
        },
        "id": "8hkDxcWVZ-kq",
        "outputId": "ef4e0c9e-4453-4253-c9da-725c1fe77ea2"
      },
      "source": [
        "filename = \"2_mon_new.csv\"\n",
        "df = pd.read_csv(filename)\n",
        "print(df.info())"
      ],
      "execution_count": 4,
      "outputs": [
        {
          "output_type": "stream",
          "name": "stdout",
          "text": [
            "<class 'pandas.core.frame.DataFrame'>\n",
            "RangeIndex: 2974 entries, 0 to 2973\n",
            "Data columns (total 3 columns):\n",
            " #   Column              Non-Null Count  Dtype \n",
            "---  ------              --------------  ----- \n",
            " 0   S.No                2974 non-null   int64 \n",
            " 1   timestamp           2974 non-null   object\n",
            " 2   No_of_availability  2974 non-null   int64 \n",
            "dtypes: int64(2), object(1)\n",
            "memory usage: 69.8+ KB\n",
            "None\n"
          ]
        }
      ]
    },
    {
      "cell_type": "markdown",
      "metadata": {
        "id": "Y1Y3J9R5pSZL"
      },
      "source": [
        "timestamp column has this formate\n",
        "7/31/2016  4:45:02 PM"
      ]
    },
    {
      "cell_type": "code",
      "metadata": {
        "id": "FHT7aGw5Z-bB"
      },
      "source": [
        "df['timestamp'] = pd.to_datetime(df['timestamp'])\n",
        "df.set_axis(df['timestamp'], inplace=True)\n",
        "df.drop(columns=['S.No'], inplace=True)"
      ],
      "execution_count": 5,
      "outputs": []
    },
    {
      "cell_type": "code",
      "metadata": {
        "colab": {
          "base_uri": "https://localhost:8080/"
        },
        "id": "Jzu2f7vaZ-P-",
        "outputId": "cf905a1c-78b7-4d48-928c-93c0c33dbadd"
      },
      "source": [
        "close_data = df['No_of_availability'].values\n",
        "close_data = close_data.reshape((-1,1))\n",
        "\n",
        "split_percent = 0.80\n",
        "split = int(split_percent*len(close_data))\n",
        "\n",
        "close_train = close_data[:split]\n",
        "close_test = close_data[split:]\n",
        "\n",
        "date_train = df['timestamp'][:split]\n",
        "date_test = df['timestamp'][split:]\n",
        "\n",
        "print(len(close_train))\n",
        "print(len(close_test))"
      ],
      "execution_count": 6,
      "outputs": [
        {
          "output_type": "stream",
          "name": "stdout",
          "text": [
            "2379\n",
            "595\n"
          ]
        }
      ]
    },
    {
      "cell_type": "code",
      "metadata": {
        "id": "i3CVWvBCZ-Eg"
      },
      "source": [
        "look_back = 15\n",
        "\n",
        "train_generator = TimeseriesGenerator(close_train, close_train, length=look_back, batch_size=20)     \n",
        "test_generator = TimeseriesGenerator(close_test, close_test, length=look_back, batch_size=1)"
      ],
      "execution_count": 7,
      "outputs": []
    },
    {
      "cell_type": "code",
      "metadata": {
        "colab": {
          "base_uri": "https://localhost:8080/"
        },
        "id": "V3U6__xjZ93x",
        "outputId": "cd0d3805-d6f7-4215-9671-53ec5d8bde22"
      },
      "source": [
        "from keras.models import Sequential\n",
        "from keras.layers import LSTM, Dense\n",
        "\n",
        "model = Sequential()\n",
        "model.add(\n",
        "    LSTM(10,\n",
        "        activation='relu',\n",
        "        input_shape=(look_back,1))\n",
        ")\n",
        "model.add(Dense(1))\n",
        "model.compile(optimizer='adam', loss='mse')\n",
        "\n",
        "num_epochs = 25\n",
        "model.fit_generator(train_generator, epochs=num_epochs, verbose=1)"
      ],
      "execution_count": 8,
      "outputs": [
        {
          "output_type": "stream",
          "name": "stderr",
          "text": [
            "/usr/local/lib/python3.7/dist-packages/keras/engine/training.py:1972: UserWarning: `Model.fit_generator` is deprecated and will be removed in a future version. Please use `Model.fit`, which supports generators.\n",
            "  warnings.warn('`Model.fit_generator` is deprecated and '\n"
          ]
        },
        {
          "output_type": "stream",
          "name": "stdout",
          "text": [
            "Epoch 1/25\n",
            "119/119 [==============================] - 2s 7ms/step - loss: 27151954.0000\n",
            "Epoch 2/25\n",
            "119/119 [==============================] - 1s 7ms/step - loss: 20976202.0000\n",
            "Epoch 3/25\n",
            "119/119 [==============================] - 1s 7ms/step - loss: 17556774.0000\n",
            "Epoch 4/25\n",
            "119/119 [==============================] - 1s 7ms/step - loss: 15231577.0000\n",
            "Epoch 5/25\n",
            "119/119 [==============================] - 1s 7ms/step - loss: 2927137.5000\n",
            "Epoch 6/25\n",
            "119/119 [==============================] - 1s 7ms/step - loss: 669696.4375\n",
            "Epoch 7/25\n",
            "119/119 [==============================] - 1s 7ms/step - loss: 289438.1562\n",
            "Epoch 8/25\n",
            "119/119 [==============================] - 1s 7ms/step - loss: 296559.5312\n",
            "Epoch 9/25\n",
            "119/119 [==============================] - 1s 7ms/step - loss: 270835.9688\n",
            "Epoch 10/25\n",
            "119/119 [==============================] - 1s 7ms/step - loss: 249749.4375\n",
            "Epoch 11/25\n",
            "119/119 [==============================] - 1s 7ms/step - loss: 402489.7188\n",
            "Epoch 12/25\n",
            "119/119 [==============================] - 1s 7ms/step - loss: 550314.3125\n",
            "Epoch 13/25\n",
            "119/119 [==============================] - 1s 7ms/step - loss: 392574.9688\n",
            "Epoch 14/25\n",
            "119/119 [==============================] - 1s 7ms/step - loss: 452004.7500\n",
            "Epoch 15/25\n",
            "119/119 [==============================] - 1s 7ms/step - loss: 308509.8750\n",
            "Epoch 16/25\n",
            "119/119 [==============================] - 1s 7ms/step - loss: 285283.3125\n",
            "Epoch 17/25\n",
            "119/119 [==============================] - 1s 7ms/step - loss: 267388.0625\n",
            "Epoch 18/25\n",
            "119/119 [==============================] - 1s 7ms/step - loss: 232528.4531\n",
            "Epoch 19/25\n",
            "119/119 [==============================] - 1s 7ms/step - loss: 198910.7031\n",
            "Epoch 20/25\n",
            "119/119 [==============================] - 1s 7ms/step - loss: 185112.1875\n",
            "Epoch 21/25\n",
            "119/119 [==============================] - 1s 7ms/step - loss: 169287.4531\n",
            "Epoch 22/25\n",
            "119/119 [==============================] - 1s 7ms/step - loss: 152111.6406\n",
            "Epoch 23/25\n",
            "119/119 [==============================] - 1s 7ms/step - loss: 133914.9062\n",
            "Epoch 24/25\n",
            "119/119 [==============================] - 1s 7ms/step - loss: 123575.1641\n",
            "Epoch 25/25\n",
            "119/119 [==============================] - 1s 7ms/step - loss: 108858.0078\n"
          ]
        },
        {
          "output_type": "execute_result",
          "data": {
            "text/plain": [
              "<keras.callbacks.History at 0x7f224d0f8450>"
            ]
          },
          "metadata": {},
          "execution_count": 8
        }
      ]
    },
    {
      "cell_type": "markdown",
      "metadata": {
        "id": "fmgaSRkypiBa"
      },
      "source": [
        "output is the future prediction\n",
        "that we want to show in our android app\n",
        "right here in yellow highlighter\n",
        "https://github.com/RimshaBUKC/fyp_final/blob/main/Capture.PNG\n"
      ]
    },
    {
      "cell_type": "code",
      "metadata": {
        "colab": {
          "base_uri": "https://localhost:8080/"
        },
        "id": "x8clvOKXbu2O",
        "outputId": "1eee60a9-b24f-4421-a672-e2addb034a10"
      },
      "source": [
        "close_data = close_data.reshape((-1))\n",
        "\n",
        "def predict(num_prediction, model):\n",
        "    prediction_list = close_data[-look_back:]\n",
        "    \n",
        "    for _ in range(num_prediction):\n",
        "        x = prediction_list[-look_back:]\n",
        "        x = x.reshape((1, look_back, 1))\n",
        "        out = model.predict(x)[0][0]\n",
        "        prediction_list = np.append(prediction_list, out)\n",
        "    prediction_list = prediction_list[look_back-0:]\n",
        "        \n",
        "    return prediction_list\n",
        "    \n",
        "def predict_dates(num_prediction):\n",
        "    last_date = df['timestamp'].values[0]\n",
        "    prediction_dates = pd.date_range(last_date, periods=num_prediction+1).tolist()\n",
        "    return prediction_dates\n",
        "num_prediction =1\n",
        "forecast = predict(num_prediction, model)\n",
        "forecast_dates = predict_dates(num_prediction)\n",
        "#print(forecast)\n",
        "num=5500\n",
        "\n",
        "if forecast>num:\n",
        "\n",
        "    data2 = open(\"data2.txt\", \"w\")\n",
        "    data2.write(\"5500\")\n",
        "    data2.close()\n",
        "    print(num)\n",
        "else:\n",
        "    print(forecast)\n",
        "    data2 = open(\"data2.txt\", \"w\")\n",
        "    data2.write(str(forecast))\n",
        "    data2.close()\n"
      ],
      "execution_count": 38,
      "outputs": [
        {
          "output_type": "stream",
          "name": "stdout",
          "text": [
            "[5046.25976562]\n"
          ]
        }
      ]
    },
    {
      "cell_type": "markdown",
      "metadata": {
        "id": "J1OswS2Wr7UI"
      },
      "source": [
        "output is the last value  that we want to show in our android app right here in yellow highlighter\n",
        "\n",
        "https://github.com/RimshaBUKC/fyp_final/blob/main/Capture1.PNG"
      ]
    },
    {
      "cell_type": "code",
      "metadata": {
        "id": "XtS9qNRCbumW",
        "colab": {
          "base_uri": "https://localhost:8080/"
        },
        "outputId": "cf341767-0947-4e62-b160-9a956d6c5722"
      },
      "source": [
        "import pandas as pd\n",
        "\n",
        "df = pd.read_csv('2_mon_new.csv')\n",
        "last_number = df['No_of_availability'].values[-1]\n",
        "\n",
        "print(last_number)\n"
      ],
      "execution_count": 31,
      "outputs": [
        {
          "output_type": "stream",
          "name": "stdout",
          "text": [
            "5275\n"
          ]
        }
      ]
    },
    {
      "cell_type": "code",
      "metadata": {
        "id": "k37o8_NobuRz"
      },
      "source": [
        ""
      ],
      "execution_count": 9,
      "outputs": []
    },
    {
      "cell_type": "code",
      "metadata": {
        "id": "P-7SDSFUbuHw"
      },
      "source": [
        ""
      ],
      "execution_count": 9,
      "outputs": []
    }
  ]
}